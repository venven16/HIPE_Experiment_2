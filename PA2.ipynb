{
 "cells": [
  {
   "cell_type": "markdown",
   "metadata": {},
   "source": [
    "### NORMALIZATION PROBLEM\n"
   ]
  },
  {
   "cell_type": "code",
   "execution_count": 9,
   "metadata": {},
   "outputs": [
    {
     "name": "stdout",
     "output_type": "stream",
     "text": [
      "The Original X: \n",
      " [[0.91068938 0.82849091 0.96162172 0.76834752 0.25891826]\n",
      " [0.87952806 0.94678797 0.10997413 0.32401672 0.97228696]\n",
      " [0.21396749 0.16993917 0.71157363 0.31293363 0.21345095]\n",
      " [0.36242495 0.5236162  0.87180768 0.3850499  0.71108236]\n",
      " [0.52573004 0.96173652 0.85347704 0.13198226 0.33865457]] \n",
      "\n",
      "The Normalized X: \n",
      " [[ 1.11964073  0.84956452  1.28698709  0.65195378 -1.02185752]\n",
      " [ 1.01725524  1.23824843 -1.51123728 -0.80796613  1.32202945]\n",
      " [-1.16955049 -1.31421258  0.4654141  -0.84438139 -1.17124765]\n",
      " [-0.68176976 -0.15215009  0.99188871 -0.60743186  0.46379994]\n",
      " [-0.14520476  1.2873643   0.93166044 -1.43892607 -0.75987114]]\n"
     ]
    }
   ],
   "source": [
    "#Start: Getting the library using np to shorten numpy \n",
    "import numpy as np \n",
    "\n",
    "#Creating a random 5x5 ndarray and store it in variable X \n",
    "X = np.random.random((5, 5))\n",
    "\n",
    "#Centering and scaling (Normalized X)\n",
    "X_mean = X.mean()\n",
    "X_std = X.std()\n",
    "X_normalized = (X - X_mean) / X_std\n",
    "\n",
    "#Saving the Normalized ndarray as a file \n",
    "np.save('X_normalized.npy', X_normalized)\n",
    "\n",
    "#Checking there is a difference between X and Normalized X\n",
    "print(\"The Original X: \\n\", X, \"\\n\")\n",
    "print(\"The Normalized X: \\n\", X_normalized) "
   ]
  },
  {
   "cell_type": "markdown",
   "metadata": {},
   "source": [
    "### DIVISIBLE BY 3 PROBLEM"
   ]
  },
  {
   "cell_type": "code",
   "execution_count": 6,
   "metadata": {},
   "outputs": [
    {
     "name": "stdout",
     "output_type": "stream",
     "text": [
      "A = \n",
      " [[    1     4     9    16    25    36    49    64    81   100]\n",
      " [  121   144   169   196   225   256   289   324   361   400]\n",
      " [  441   484   529   576   625   676   729   784   841   900]\n",
      " [  961  1024  1089  1156  1225  1296  1369  1444  1521  1600]\n",
      " [ 1681  1764  1849  1936  2025  2116  2209  2304  2401  2500]\n",
      " [ 2601  2704  2809  2916  3025  3136  3249  3364  3481  3600]\n",
      " [ 3721  3844  3969  4096  4225  4356  4489  4624  4761  4900]\n",
      " [ 5041  5184  5329  5476  5625  5776  5929  6084  6241  6400]\n",
      " [ 6561  6724  6889  7056  7225  7396  7569  7744  7921  8100]\n",
      " [ 8281  8464  8649  8836  9025  9216  9409  9604  9801 10000]] \n",
      "\n",
      "All the elements that are divisible by 3 = \n",
      " [[   9   36   81  144  225  324  441  576  729  900 1089]\n",
      " [1296 1521 1764 2025 2304 2601 2916 3249 3600 3969 4356]\n",
      " [4761 5184 5625 6084 6561 7056 7569 8100 8649 9216 9801]]\n"
     ]
    }
   ],
   "source": [
    "#Start: Getting the library using np to shorten numpy\n",
    "import numpy as np \n",
    "\n",
    "#Creating a 10x10 ndarray of squares of the first 100 positive intergers \n",
    "A = np.arange(1, 101).reshape(10, 10) ** 2 \n",
    "\n",
    "#Determining elements divisible by 3 \n",
    "div_by_3 = A[A % 3 == 0].reshape(3, 11)\n",
    "\n",
    "#Saving the elements to a file \n",
    "np.save('div_by_3.npy', div_by_3)\n",
    "\n",
    "\n",
    "#Printing the squares of the first 100 positive integers \n",
    "print(\"A = \\n\", A, \"\\n\")\n",
    "\n",
    "#Printing the all Elements divisble by 3\n",
    "print(\"All the elements that are divisible by 3 = \\n\", div_by_3) "
   ]
  },
  {
   "cell_type": "code",
   "execution_count": null,
   "metadata": {},
   "outputs": [],
   "source": []
  }
 ],
 "metadata": {
  "kernelspec": {
   "display_name": "Python 3",
   "language": "python",
   "name": "python3"
  },
  "language_info": {
   "codemirror_mode": {
    "name": "ipython",
    "version": 3
   },
   "file_extension": ".py",
   "mimetype": "text/x-python",
   "name": "python",
   "nbconvert_exporter": "python",
   "pygments_lexer": "ipython3",
   "version": "3.9.6"
  }
 },
 "nbformat": 4,
 "nbformat_minor": 2
}
