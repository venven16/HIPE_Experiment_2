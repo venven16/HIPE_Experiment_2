{
 "cells": [
  {
   "cell_type": "markdown",
   "metadata": {},
   "source": [
    "### NORMALIZATION PROBLEM\n"
   ]
  },
  {
   "cell_type": "markdown",
   "metadata": {},
   "source": [
    "### Problem: Data Normalization\n",
    "\n",
    "- In data analytics, normalization is an essential preprocessing method, particularly for statistical and machine learning applications. Scaling and centering the data are involved.\n",
    "\n",
    "\n",
    "- Subtracting each data point's mean from the total is referred to as centering. By taking this step, the data's mean of zero is guaranteed.\n",
    "\n",
    "\n",
    "- The process of dividing the centered data by the standard deviation is called scaling. By doing this, the data are standardized to have a standard deviation of 1. \n",
    "\n",
    "\n",
    "- By ensuring that the data is on a consistent scale, this method helps minimize bias towards features with bigger sizes and enhances the performance of numerous machine learning methods.\n",
    "\n",
    "\n",
    "##### Input format: The program receives no specific input, but it should use the 'np.random.randon((5, 5))' function to produce a random 5x5 array of floating-point numbers between 0 and 1.\n",
    "\n",
    "\n",
    "##### Output format: The 5x5 normalized NumPy array is the output, which is saved to a file called 'X_normalized.npy.'\n",
    "\n"
   ]
  },
  {
   "cell_type": "code",
   "execution_count": 1,
   "metadata": {},
   "outputs": [
    {
     "name": "stdout",
     "output_type": "stream",
     "text": [
      "The Original X: \n",
      " [[0.49359275 0.55637242 0.88260865 0.18572574 0.67821987]\n",
      " [0.38585091 0.257146   0.73537277 0.6321534  0.42170025]\n",
      " [0.72303258 0.60853675 0.96732221 0.5850818  0.53509258]\n",
      " [0.48261404 0.49579075 0.34351044 0.35683352 0.73636125]\n",
      " [0.11335986 0.85504277 0.51203765 0.36522279 0.78806262]] \n",
      "\n",
      "The Normalized X: \n",
      " [[-0.25412813  0.03983152  1.5674007  -1.69568517  0.61037024]\n",
      " [-0.75861873 -1.36126685  0.8779831   0.39466856 -0.59075768]\n",
      " [ 0.82020137  0.2840859   1.96406362  0.17426039 -0.05980922]\n",
      " [-0.30553485 -0.24383621 -0.9568738  -0.89448978  0.88261157]\n",
      " [-2.03453133  1.43832613 -0.16776166 -0.85520785  1.12469817]]\n"
     ]
    }
   ],
   "source": [
    "#Start: Getting the library using np to shorten numpy \n",
    "import numpy as np \n",
    "\n",
    "#Creating a random 5x5 ndarray and store it in variable X \n",
    "X = np.random.random((5, 5))\n",
    "\n",
    "#Centering and scaling (Normalized X)\n",
    "X_mean = X.mean()\n",
    "X_std = X.std()\n",
    "X_normalized = (X - X_mean) / X_std\n",
    "\n",
    "#Saving the Normalized ndarray as a file \n",
    "np.save('X_normalized.npy', X_normalized)\n",
    "\n",
    "#Checking there is a difference between X and Normalized X\n",
    "print(\"The Original X: \\n\", X, \"\\n\")\n",
    "print(\"The Normalized X: \\n\", X_normalized) "
   ]
  },
  {
   "cell_type": "markdown",
   "metadata": {},
   "source": [
    "### DIVISIBLE BY 3 PROBLEM"
   ]
  },
  {
   "cell_type": "markdown",
   "metadata": {},
   "source": [
    "### Problem: Finding Elements Divisible by 3 in a Squared Matrix\n",
    "\n",
    "- The task involves generating a 10x10 NumPy array, with each element representing the square of the initial 100 positive integers, ranging from 1^2 to 100^2. The next step is to build this array and then find and remove every element that divides by three. It is necessary to save the outcome to a file.\n",
    "\n",
    "##### Input format: The program receives no particular input. Still, the software ought to: Create a NumPy array with all of the integers from 1 to 100 squared.\n",
    "\n",
    "##### Output format: The program will produce: The array containing the squares of integers from 1 to 100, An array of items in NumPy that divide by three, These components are going to be stored in a file called \"div_by_3.npy.\" \n",
    "\n",
    "- The array will be stored to \"div_by_3.npy\" and contain numbers like 9, 36, 81, 144, 324, etc. after the elements divisible by 3 have been found.\n",
    "\n"
   ]
  },
  {
   "cell_type": "code",
   "execution_count": 2,
   "metadata": {},
   "outputs": [
    {
     "name": "stdout",
     "output_type": "stream",
     "text": [
      "A = \n",
      " [[    1     4     9    16    25    36    49    64    81   100]\n",
      " [  121   144   169   196   225   256   289   324   361   400]\n",
      " [  441   484   529   576   625   676   729   784   841   900]\n",
      " [  961  1024  1089  1156  1225  1296  1369  1444  1521  1600]\n",
      " [ 1681  1764  1849  1936  2025  2116  2209  2304  2401  2500]\n",
      " [ 2601  2704  2809  2916  3025  3136  3249  3364  3481  3600]\n",
      " [ 3721  3844  3969  4096  4225  4356  4489  4624  4761  4900]\n",
      " [ 5041  5184  5329  5476  5625  5776  5929  6084  6241  6400]\n",
      " [ 6561  6724  6889  7056  7225  7396  7569  7744  7921  8100]\n",
      " [ 8281  8464  8649  8836  9025  9216  9409  9604  9801 10000]] \n",
      "\n",
      "All the elements that are divisible by 3 = \n",
      " [[   9   36   81  144  225  324  441  576  729  900 1089]\n",
      " [1296 1521 1764 2025 2304 2601 2916 3249 3600 3969 4356]\n",
      " [4761 5184 5625 6084 6561 7056 7569 8100 8649 9216 9801]]\n"
     ]
    }
   ],
   "source": [
    "#Start: Getting the library using np to shorten numpy\n",
    "import numpy as np \n",
    "\n",
    "#Creating a 10x10 ndarray of squares of the first 100 positive intergers \n",
    "A = np.arange(1, 101).reshape(10, 10) ** 2 \n",
    "\n",
    "#Determining elements divisible by 3 \n",
    "div_by_3 = A[A % 3 == 0].reshape(3, 11)\n",
    "\n",
    "#Saving the elements to a file \n",
    "np.save('div_by_3.npy', div_by_3)\n",
    "\n",
    "\n",
    "#Printing the squares of the first 100 positive integers \n",
    "print(\"A = \\n\", A, \"\\n\")\n",
    "\n",
    "#Printing the all Elements divisble by 3\n",
    "print(\"All the elements that are divisible by 3 = \\n\", div_by_3) "
   ]
  }
 ],
 "metadata": {
  "kernelspec": {
   "display_name": "Python 3",
   "language": "python",
   "name": "python3"
  },
  "language_info": {
   "codemirror_mode": {
    "name": "ipython",
    "version": 3
   },
   "file_extension": ".py",
   "mimetype": "text/x-python",
   "name": "python",
   "nbconvert_exporter": "python",
   "pygments_lexer": "ipython3",
   "version": "3.9.6"
  }
 },
 "nbformat": 4,
 "nbformat_minor": 2
}
